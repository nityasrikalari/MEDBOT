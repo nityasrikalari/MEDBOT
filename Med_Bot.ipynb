{
 "cells": [
  {
   "cell_type": "code",
   "execution_count": null,
   "metadata": {
    "scrolled": true
   },
   "outputs": [],
   "source": [
    "import nltk\n",
    "from nltk.stem import WordNetLemmatizer\n",
    "lemmatizer = WordNetLemmatizer()\n",
    "import json\n",
    "import pickle\n",
    "from pprint import pprint\n",
    "\n",
    "import numpy as np\n",
    "from keras.models import Sequential\n",
    "from keras.layers import Dense, Activation, Dropout\n",
    "from keras.optimizers import SGD\n",
    "import random\n",
    "\n",
    "words=[]\n",
    "classes = []\n",
    "documents = []\n",
    "ignore_words = ['?', '!']\n",
    "\n",
    "data_file = open('intents.json').read()\n",
    "intents = json.loads(data_file)\n",
    "#json.dumps(data_file, indent=4, sort_keys=True)"
   ]
  },
  {
   "cell_type": "code",
   "execution_count": 33,
   "metadata": {},
   "outputs": [
    {
     "name": "stdout",
     "output_type": "stream",
     "text": [
      "['What', 'are', 'the', 'symptoms', 'of', 'AIDS', 'AIDS', 'symptoms', '?', 'What', 'are', 'the', 'precautions', 'taken', 'for', 'AIDS', 'problem', 'AIDS', 'precautions', 'What', 'are', 'the', 'medicines', 'for', 'AIDS', 'AIDS', 'medicines', 'What', 'are', 'the', 'symptoms', 'of', 'diabetes', 'diabetes', 'symptoms', '?', 'What', 'are', 'the', 'precautions', 'taken', 'for', 'diabetes', 'problem', 'diabetes', 'precautions', 'What', 'are', 'the', 'medicines', 'for', 'diabetes', 'diabetes', 'medicines', 'What', 'are', 'the', 'symptoms', 'of', 'fungal', 'infection', 'fungal', 'infection', 'symptoms', '?', 'What', 'are', 'the', 'precautions', 'taken', 'for', 'fungal', 'infection', 'fungal', 'infection', 'precautions', 'What', 'are', 'the', 'medicines', 'for', 'fungal', 'infection', 'fungal', 'infection', 'medicines', 'What', 'are', 'the', 'symptoms', 'of', 'allergy', 'allergy', 'symptoms', '?', 'What', 'are', 'the', 'precautions', 'taken', 'for', 'allergy', 'allergy', 'precautions', 'What', 'are', 'the', 'medicines', 'for', 'allergy', 'allergy', 'medicines', 'What', 'are', 'the', 'symptoms', 'of', 'gastric', 'problem', 'gastric', 'problem', 'symptoms', '?', 'What', 'are', 'the', 'precautions', 'taken', 'for', 'gastric', 'problem', 'gastric', 'problem', 'precautions', 'What', 'are', 'the', 'medicines', 'for', 'gastric', 'problem', 'gastric', 'problem', 'medicines', 'What', 'are', 'the', 'symptoms', 'of', 'gastric', 'problem', 'gastric', 'problem', 'symptoms', '?', 'What', 'are', 'the', 'precautions', 'taken', 'for', 'gastric', 'problem', 'gastric', 'problem', 'precautions', 'What', 'are', 'the', 'medicines', 'for', 'gastric', 'problem', 'gastric', 'problem', 'medicines', 'What', 'are', 'the', 'symptoms', 'of', 'peptic', 'ulcer', 'peptic', 'ulcer', 'symptoms', '?', 'What', 'are', 'the', 'precautions', 'taken', 'for', 'peptic', 'ulcer', 'problem', 'peptic', 'ulcer', 'precautions', 'What', 'are', 'the', 'medicines', 'for', 'peptic', 'ulcer', 'peptic', 'ulcer', 'medicines', 'What', 'are', 'the', 'symptoms', 'of', 'Diabetes', 'Diabetes', 'symptoms', '?', 'What', 'are', 'the', 'precautions', 'taken', 'for', 'Diabetes', 'Diabetes', 'precautions', 'What', 'are', 'the', 'medicines', 'for', 'Diabetes', 'Diabetes', 'medicines', 'What', 'are', 'the', 'symptoms', 'of', 'Bronchial', 'Asthma', 'Bronchial', 'Asthma', 'symptoms', '?', 'What', 'are', 'the', 'precautions', 'taken', 'for', 'Bronchial', 'Asthma', 'Bronchial', 'Asthma', 'precautions', 'What', 'are', 'the', 'medicines', 'for', 'Bronchial', 'Asthma', 'Bronchial', 'Asthma', 'medicines', 'What', 'are', 'the', 'symptoms', 'of', 'Hypertension', 'Hypertension', 'symptoms', '?', 'What', 'are', 'the', 'precautions', 'taken', 'for', 'Hypertension', 'Hypertension', 'precautions', 'What', 'are', 'the', 'medicines', 'for', 'Hypertension', 'Hypertension', 'medicines', 'What', 'are', 'the', 'symptoms', 'of', 'Migraine', 'Migraine', 'symptoms', '?', 'What', 'are', 'the', 'precautions', 'taken', 'for', 'Migraine', 'Migraine', 'precautions', 'What', 'are', 'the', 'medicines', 'for', 'Migraine', 'Migraine', 'medicines', 'What', 'are', 'the', 'symptoms', 'of', 'Cervical', 'spondylosis', 'Cervical', 'spondylosis', 'symptoms', '?', 'What', 'are', 'the', 'precautions', 'taken', 'for', 'Cervical', 'spondylosis', 'Cervical', 'spondylosis', 'precautions', 'What', 'are', 'the', 'medicines', 'for', 'Cervical', 'spondylosis', 'Cervical', 'spondylosis', 'medicines', 'What', 'are', 'the', 'symptoms', 'of', 'Paralysis', '(', 'brain', 'hemorrhage', ')', 'Paralysis', '(', 'brain', 'hemorrhage', ')', 'symptoms', '?', 'What', 'are', 'the', 'precautions', 'taken', 'for', 'Paralysis', '(', 'brain', 'hemorrhage', ')', 'Paralysis', '(', 'brain', 'hemorrhage', ')', 'precautions', 'What', 'are', 'the', 'medicines', 'for', 'Paralysis', '(', 'brain', 'hemorrhage', ')', 'Paralysis', '(', 'brain', 'hemorrhage', ')', 'medicines', 'What', 'are', 'the', 'symptoms', 'of', 'Malaria', 'Malaria', 'symptoms', '?', 'What', 'are', 'the', 'precautions', 'taken', 'for', 'Malaria', 'Malaria', 'Precautions', 'What', 'are', 'the', 'medicines', 'for', 'Malaria', 'Malaria', 'medicines', 'What', 'are', 'the', 'symptoms', 'of', 'Chicken', 'pox', 'Chicken', 'pox', 'symptoms', '?', 'What', 'are', 'the', 'precautions', 'taken', 'for', 'Chicken', 'pox', 'Chicken', 'pox', 'precautions', 'What', 'are', 'the', 'medicines', 'for', 'Chicken', 'pox', 'Chicken', 'pox', 'medicines', 'What', 'are', 'the', 'symptoms', 'of', 'Dengue', 'problem', 'Dengue', 'problem', 'symptoms', '?', 'What', 'are', 'the', 'precautions', 'taken', 'for', 'Dengue', 'Dengue', 'precautions', 'What', 'are', 'the', 'medicines', 'for', 'Dengue', 'Dengue', 'medicines', 'What', 'are', 'the', 'symptoms', 'of', 'Typhoid', 'Typhoid', 'symptoms', '?', 'What', 'are', 'the', 'precautions', 'taken', 'for', 'Typhoid', 'Typhoid', 'precautions', 'What', 'are', 'the', 'medicines', 'for', 'Typhoid', 'Typhoid', 'medicines', 'What', 'are', 'the', 'symptoms', 'of', 'Hepatitis', 'A', 'Hepatitis', 'A', 'symptoms', '?', 'What', 'are', 'the', 'precautions', 'taken', 'for', 'Hepatitis', 'A', 'problem', 'Hepatitis', 'A', 'precautions', 'What', 'are', 'the', 'medicines', 'for', 'Hepatitis', 'A', 'Hepatitis', 'A', 'medicines', 'What', 'are', 'the', 'symptoms', 'of', 'Hepatitis', 'B', 'Hepatitis', 'B', 'symptoms', '?', 'What', 'are', 'the', 'precautions', 'taken', 'for', 'Hepatitis', 'B', 'problem', 'Hepatitis', 'B', 'precautions', 'What', 'are', 'the', 'medicines', 'for', 'Hepatitis', 'B', 'Hepatitis', 'B', 'medicines', 'What', 'are', 'the', 'symptoms', 'of', 'Hepatitis', 'C', 'Hepatitis', 'C', 'symptoms', '?', 'What', 'are', 'the', 'precautions', 'taken', 'for', 'Hepatitis', 'C', 'Hepatitis', 'C', 'precautions', 'What', 'are', 'the', 'medicines', 'for', 'Hepatitis', 'C', 'Hepatitis', 'C', 'medicines', 'What', 'are', 'the', 'symptoms', 'of', 'Hepatitis', 'D', 'Hepatitis', 'D', 'symptoms', '?', 'What', 'are', 'the', 'precautions', 'taken', 'for', 'Hepatitis', 'D', 'Hepatitis', 'D', 'precautions', 'What', 'are', 'the', 'medicines', 'for', 'Hepatitis', 'D', 'Hepatitis', 'D', 'medicines', 'What', 'are', 'the', 'symptoms', 'of', 'Tuberculosis', 'problem', 'Tuberculosis', 'problem', 'symptoms', '?', 'What', 'are', 'the', 'precautions', 'taken', 'for', 'Tuberculosis', 'Tuberculosis', 'precautions', 'What', 'are', 'the', 'medicines', 'for', 'Tuberculosis', 'Tuberculosis', 'medicines', 'What', 'are', 'the', 'symptoms', 'of', 'Common', 'Cold', 'Common', 'Cold', 'symptoms', '?', 'What', 'are', 'the', 'precautions', 'taken', 'for', 'Common', 'Cold', 'Common', 'Cold', 'precautions', 'What', 'are', 'the', 'medicines', 'for', 'Common', 'Cold', 'Common', 'Cold', 'medicines', 'What', 'are', 'the', 'symptoms', 'of', 'Pneumonia', 'Pneumonia', 'symptoms', '?', 'What', 'are', 'the', 'precautions', 'taken', 'for', 'Pneumonia', 'problem', 'Pneumonia', 'precautions', 'What', 'are', 'the', 'medicines', 'for', 'Pneumonia', 'Pneumonia', 'medicines', 'What', 'are', 'the', 'symptoms', 'of', 'Dimorphic', 'hemmorhoids', '(', 'piles', ')', 'Dimorphic', 'hemmorhoids', '(', 'piles', ')', 'symptoms', '?', 'What', 'are', 'the', 'precautions', 'taken', 'for', 'Dimorphic', 'hemmorhoids', '(', 'piles', ')', 'problem', 'Dimorphic', 'hemmorhoids', '(', 'piles', ')', 'precautions', 'What', 'are', 'the', 'medicines', 'for', 'Dimorphic', 'hemmorhoids', '(', 'piles', ')', 'Dimorphic', 'hemmorhoids', '(', 'piles', ')', 'medicines', 'What', 'are', 'the', 'symptoms', 'of', 'Heart', 'attack', 'Heart', 'attack', 'symptoms', '?', 'What', 'are', 'the', 'precautions', 'taken', 'for', 'Heart', 'attack', 'problem', 'Heart', 'attack', 'precautions', 'What', 'are', 'the', 'medicines', 'for', 'Heart', 'attack', 'Heart', 'attack', 'medicines', 'What', 'are', 'the', 'symptoms', 'of', 'fungal', 'infection', 'fungal', 'infection', 'symptoms', '?', 'What', 'are', 'the', 'precautions', 'taken', 'for', 'fungal', 'infection', 'fungal', 'infection', 'precautions', 'What', 'are', 'the', 'medicines', 'for', 'fungal', 'infection', 'fungal', 'infection', 'medicines', 'What', 'are', 'the', 'symptoms', 'of', 'allergy', 'allergy', 'symptoms', '?', 'What', 'are', 'the', 'precautions', 'taken', 'for', 'allergy', 'allergy', 'precautions', 'What', 'are', 'the', 'medicines', 'for', 'allergy', 'allergy', 'medicines', 'What', 'are', 'the', 'symptoms', 'of', 'gastric', 'problem', 'gastric', 'problem', 'symptoms', '?', 'What', 'are', 'the', 'precautions', 'taken', 'for', 'gastric', 'problem', 'gastric', 'problem', 'precautions', 'What', 'are', 'the', 'medicines', 'for', 'gastric', 'problem', 'gastric', 'problem', 'medicines', 'What', 'are', 'the', 'symptoms', 'of', 'gastric', 'problem', 'gastric', 'problem', 'symptoms', '?', 'What', 'are', 'the', 'precautions', 'taken', 'for', 'gastric', 'problem', 'gastric', 'problem', 'precautions', 'What', 'are', 'the', 'medicines', 'for', 'gastric', 'problem', 'gastric', 'problem', 'medicines', 'What', 'are', 'the', 'symptoms', 'of', 'peptic', 'ulcer', 'peptic', 'ulcer', 'symptoms', '?', 'What', 'are', 'the', 'precautions', 'taken', 'for', 'peptic', 'ulcer', 'problem', 'peptic', 'ulcer', 'precautions', 'What', 'are', 'the', 'medicines', 'for', 'peptic', 'ulcer', 'peptic', 'ulcer', 'medicines', 'What', 'are', 'the', 'symptoms', 'of', 'AIDS', 'AIDS', 'symptoms', '?', 'What', 'are', 'the', 'precautions', 'taken', 'for', 'AIDS', 'problem', 'AIDS', 'precautions', 'What', 'are', 'the', 'medicines', 'for', 'AIDS', 'AIDS', 'medicines', 'What', 'are', 'the', 'symptoms', 'of', 'diabetes', 'diabetes', 'symptoms', '?', 'What', 'are', 'the', 'precautions', 'taken', 'for', 'diabetes', 'problem', 'diabetes', 'precautions', 'What', 'are', 'the', 'medicines', 'for', 'diabetes', 'diabetes', 'medicines', 'What', 'are', 'the', 'symptoms', 'of', 'piles', 'piles', 'symptoms', '?', 'What', 'are', 'the', 'precautions', 'taken', 'for', 'piles', 'piles', 'precautions', 'What', 'are', 'the', 'medicines', 'for', 'piles', 'piles', 'medicines', 'What', 'are', 'the', 'symptoms', 'of', 'thyroid', 'thyroid', 'symptoms', '?', 'What', 'are', 'the', 'precautions', 'taken', 'for', 'fatigue', 'fatigue', 'precautions', 'What', 'are', 'the', 'medicines', 'for', 'thyroid', 'thyroid', 'medicines', 'What', 'are', 'the', 'symptoms', 'of', 'Arthritis', 'Arthritis', 'symptoms', '?', 'What', 'are', 'the', 'precautions', 'taken', 'for', 'Arthritis', 'Arthritis', 'precautions', 'What', 'are', 'the', 'medicines', 'for', 'Arthritis', 'Arthritis', 'medicines', 'What', 'are', 'the', 'symptoms', 'of', 'Acne', 'Acne', 'symptoms', '?', 'What', 'are', 'the', 'precautions', 'taken', 'for', 'Acne', 'Acne', 'precautions', 'What', 'are', 'the', 'medicines', 'for', 'Acne', 'Acne', 'medicines', 'What', 'are', 'the', 'symptoms', 'of', 'Acne', 'Acne', 'symptoms', '?', 'What', 'are', 'the', 'precautions', 'taken', 'for', 'urine_infection', ',', 'urine_infection', 'precautions', 'What', 'are', 'the', 'medicines', 'for', 'urine_infection', 'urine_infection', 'medicines', 'What', 'are', 'the', 'symptoms', 'of', 'Psoriasis', 'Psoriasis', 'symptoms', '?', 'What', 'are', 'the', 'precautions', 'taken', 'for', 'Psoriasis', 'Psoriasis', 'precautions', 'What', 'are', 'the', 'medicines', 'for', 'Psoriasis', 'Psoriasis', 'medicines', 'What', 'are', 'the', 'symptoms', 'of', 'fever', 'fever', 'symptoms', '?', 'What', 'are', 'the', 'precautions', 'taken', 'for', 'fever', 'fever', 'precautions', 'What', 'are', 'the', 'medicines', 'for', 'fever', 'fever', 'medicines', 'What', 'are', 'the', 'symptoms', 'of', 'sinus', 'sinus', 'symptoms', '?', 'What', 'are', 'the', 'precautions', 'taken', 'for', 'sinus', 'sinus', 'precautions', 'What', 'are', 'the', 'medicines', 'for', 'sinus', 'sinus', 'medicines']\n"
     ]
    }
   ],
   "source": [
    "for intent in intents['intents']:\n",
    "    for pattern in intent['patterns']:\n",
    "\n",
    "        #tokenize each word\n",
    "        w = nltk.word_tokenize(pattern)\n",
    "        words.extend(w)\n",
    "        #add documents in the corpus\n",
    "        documents.append((w, intent['tag']))\n",
    "\n",
    "        # add to our classes list\n",
    "        if intent['tag'] not in classes:\n",
    "            classes.append(intent['tag'])\n",
    "print(words)"
   ]
  },
  {
   "cell_type": "code",
   "execution_count": 34,
   "metadata": {},
   "outputs": [
    {
     "name": "stdout",
     "output_type": "stream",
     "text": [
      "245 documents\n",
      "108 classes [' Chicken pox _medicines', ' Chicken pox _precautions', ' Chicken pox _symptoms', ' Dengue _precautions', ' Diabetes _medicines', ' Diabetes _precautions', ' Dimorphic hemmorhoids(piles)_medicines', ' Heart attack _medicines', ' Hepatitis A _medicines', ' Hepatitis A _precautions', ' Hepatitis B _medicines', ' Hepatitis B _precautions', ' Hepatitis C _medicines', ' Hepatitis C _precautions', ' Hepatitis D _medicines', ' Hepatitis D _precautions', ' Hepatitis D_symptoms', ' Malaria_medicines ', ' Malaria_precautions ', ' Migraine_precautions', ' Pneumonia _medicines', ' Pneumonia _precautions', ' Tuberculosis _precautions', ' Typhoid _medicines', ' Typhoid _precautions', 'AIDS_medicines', 'AIDS_precautions', 'AIDS_symptoms', 'Acne_medicines', 'Acne_precautions', 'Acne_symptoms', 'Arthritis_medicines', 'Arthritis_precautions', 'Arthritis_symptoms', 'Asthma _medicines', 'Asthma _precautions', 'Asthma_ symptoms', 'Cervical spondylosis_medicines', 'Cervical spondylosis_precautions', 'Cervical spondylosis_symptoms', 'Cold _medicines', 'Cold _precautions', 'Cold _symptoms', 'Dengue_medicines', 'Dengue_symptoms', 'Diabetes_ symptoms', 'Dimorphic hemmorhoids(piles)_ precautions', 'Dimorphic hemmorhoids(piles)_symptoms', 'Heart attack_precautions', 'Heart attack_symptoms', 'Hepatitis A_symptoms', 'Hepatitis B_symptoms', 'Hepatitis C_ symptoms', 'Hypertension_ symptoms', 'Hypertension_medicines', 'Hypertension_precautions', 'Malaria_symptoms ', 'Migraine_ symptoms', 'Migraine_medicines', 'Paralysis (brain hemorrhage)_ symptoms', 'Paralysis (brain hemorrhage)_medicines', 'Paralysis (brain hemorrhage)_precautions', 'Pneumonia_symptoms', 'Psoriasis_medicines', 'Psoriasis_precautions', 'Psoriasis_symptoms', 'Tuberculosis_medicines', 'Tuberculosis_symptoms', 'Typhoid _symptoms', 'allergy_medicines', 'allergy_precautions', 'allergy_symptoms', 'diabetes _symptoms', 'diabetes_medicines', 'diabetes_precautions', 'fever_medicines', 'fever_precautions', 'fever_symptoms', 'fungal infection_medicines', 'fungal infection_precautions', 'fungal infection_symptoms', 'fungal_infection_medicines', 'fungal_infection_precautions', 'fungal_infection_symptoms', 'gastric problem_medicines', 'gastric problem_precautions', 'gastric problem_symptoms', 'gastric_problem_medicines', 'gastric_problem_precautions', 'gastric_problem_symptoms', 'peptic ulcer_medicines', 'peptic ulcer_precautions', 'peptic ulcer_symptoms', 'peptic_ulcer_medicines', 'peptic_ulcer_precautions', 'peptic_ulcer_symptoms', 'piles_medicines', 'piles_precautions', 'piles_symptoms', 'sinus_medicines', 'sinus_precautions', 'sinus_symptoms', 'thyroid_medicines', 'thyroid_precautions', 'thyroid_symptoms', 'urine_infection_medicines', 'urine_infection_precautions', 'urine_infection_symptoms']\n",
      "57 unique lemmatized words ['(', ')', ',', 'a', 'acne', 'aid', 'allergy', 'are', 'arthritis', 'asthma', 'attack', 'b', 'brain', 'bronchial', 'c', 'cervical', 'chicken', 'cold', 'common', 'd', 'dengue', 'diabetes', 'dimorphic', 'fatigue', 'fever', 'for', 'fungal', 'gastric', 'heart', 'hemmorhoids', 'hemorrhage', 'hepatitis', 'hypertension', 'infection', 'malaria', 'medicine', 'migraine', 'of', 'paralysis', 'peptic', 'pile', 'pneumonia', 'pox', 'precaution', 'problem', 'psoriasis', 'sinus', 'spondylosis', 'symptom', 'taken', 'the', 'thyroid', 'tuberculosis', 'typhoid', 'ulcer', 'urine_infection', 'what']\n"
     ]
    }
   ],
   "source": [
    "# lemmatize, lower each word and remove duplicates\n",
    "words = [lemmatizer.lemmatize(w.lower()) for w in words if w not in ignore_words]\n",
    "words = sorted(list(set(words)))\n",
    "# sort classes\n",
    "classes = sorted(list(set(classes)))\n",
    "# documents = combination between patterns and intents\n",
    "print (len(documents), \"documents\")\n",
    "# classes = intents\n",
    "print (len(classes), \"classes\", classes)\n",
    "# words = all words, vocabulary\n",
    "print (len(words), \"unique lemmatized words\", words)\n",
    "\n",
    "pickle.dump(words,open('words.pkl','wb'))\n",
    "pickle.dump(classes,open('classes.pkl','wb'))"
   ]
  },
  {
   "cell_type": "code",
   "execution_count": null,
   "metadata": {},
   "outputs": [],
   "source": []
  }
 ],
 "metadata": {
  "kernelspec": {
   "display_name": "Python 3",
   "language": "python",
   "name": "python3"
  },
  "language_info": {
   "codemirror_mode": {
    "name": "ipython",
    "version": 3
   },
   "file_extension": ".py",
   "mimetype": "text/x-python",
   "name": "python",
   "nbconvert_exporter": "python",
   "pygments_lexer": "ipython3",
   "version": "3.8.5"
  }
 },
 "nbformat": 4,
 "nbformat_minor": 4
}
