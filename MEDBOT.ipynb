{
  "nbformat": 4,
  "nbformat_minor": 0,
  "metadata": {
    "colab": {
      "name": "MEDBOT.ipynb",
      "provenance": [],
      "collapsed_sections": []
    },
    "kernelspec": {
      "display_name": "Python 3",
      "name": "python3"
    },
    "language_info": {
      "name": "python"
    }
  },
  "cells": [
    {
      "cell_type": "code",
      "metadata": {
        "id": "nkbyQAe80_Il"
      },
      "source": [
        "#Importing Libraries\n",
        "import numpy as np\n",
        "import tensorflow as tf\n",
        "import pickle #Pickling means it converts the Python objects into byte streams.\n",
        " \n",
        "from tensorflow.keras import layers , activations , models , preprocessing"
      ],
      "execution_count": null,
      "outputs": []
    },
    {
      "cell_type": "code",
      "metadata": {
        "colab": {
          "base_uri": "https://localhost:8080/"
        },
        "id": "uP6QuT721E1Y",
        "outputId": "bebc0213-c96f-45b3-c811-16f582c045ca"
      },
      "source": [
        "a = '/content/new.zip'\n",
        "!unzip new.zip"
      ],
      "execution_count": null,
      "outputs": [
        {
          "output_type": "stream",
          "text": [
            "y\n",
            "Archive:  new.zip\n",
            "replace new/new/data/Acne.yaml? [y]es, [n]o, [A]ll, [N]one, [r]ename:   inflating: new/new/data/Acne.yaml  \n",
            "replace new/new/data/AIDS.yaml? [y]es, [n]o, [A]ll, [N]one, [r]ename: yy\n",
            "y\n",
            "  inflating: new/new/data/AIDS.yaml  \n",
            "replace new/new/data/allergy.yaml? [y]es, [n]o, [A]ll, [N]one, [r]ename:   inflating: new/new/data/allergy.yaml  \n",
            "replace new/new/data/Arthritis.yaml? [y]es, [n]o, [A]ll, [N]one, [r]ename: y\n",
            "  inflating: new/new/data/Arthritis.yaml  \n",
            "replace new/new/data/botprofile.yaml? [y]es, [n]o, [A]ll, [N]one, [r]ename: y\n",
            "  inflating: new/new/data/botprofile.yaml  \n",
            "replace new/new/data/Bronchial Asthma.yaml? [y]es, [n]o, [A]ll, [N]one, [r]ename: y\n",
            "  inflating: new/new/data/Bronchial Asthma.yaml  \n",
            "replace new/new/data/cancer.yaml? [y]es, [n]o, [A]ll, [N]one, [r]ename: y\n",
            "  inflating: new/new/data/cancer.yaml  \n",
            "replace new/new/data/Cervical spondylosis.yaml? [y]es, [n]o, [A]ll, [N]one, [r]ename: y\n",
            "  inflating: new/new/data/Cervical spondylosis.yaml  \n",
            "replace new/new/data/chest_pain.yaml? [y]es, [n]o, [A]ll, [N]one, [r]ename: y\n",
            "  inflating: new/new/data/chest_pain.yaml  \n",
            "replace new/new/data/Chicken pox.yaml? [y]es, [n]o, [A]ll, [N]one, [r]ename: y\n",
            "  inflating: new/new/data/Chicken pox.yaml  \n",
            "replace new/new/data/Common Cold.yaml? [y]es, [n]o, [A]ll, [N]one, [r]ename: y\n",
            "  inflating: new/new/data/Common Cold.yaml  \n",
            "replace new/new/data/Dengue.yaml? [y]es, [n]o, [A]ll, [N]one, [r]ename: y\n",
            "  inflating: new/new/data/Dengue.yaml  \n",
            "replace new/new/data/diabetes.yaml? [y]es, [n]o, [A]ll, [N]one, [r]ename: y\n",
            "  inflating: new/new/data/diabetes.yaml  \n",
            "replace new/new/data/eye_problem.yaml? [y]es, [n]o, [A]ll, [N]one, [r]ename: y\n",
            "  inflating: new/new/data/eye_problem.yaml  \n",
            "replace new/new/data/fever.yaml? [y]es, [n]o, [A]ll, [N]one, [r]ename: y\n",
            "  inflating: new/new/data/fever.yaml  \n",
            "replace new/new/data/fungal.yaml? [y]es, [n]o, [A]ll, [N]one, [r]ename: y\n",
            "  inflating: new/new/data/fungal.yaml  \n",
            "replace new/new/data/gastric problem.yaml? [y]es, [n]o, [A]ll, [N]one, [r]ename: y\n",
            "  inflating: new/new/data/gastric problem.yaml  \n",
            "replace new/new/data/glaucoma.yaml? [y]es, [n]o, [A]ll, [N]one, [r]ename: y\n",
            "  inflating: new/new/data/glaucoma.yaml  \n",
            "replace new/new/data/greetings.yml? [y]es, [n]o, [A]ll, [N]one, [r]ename: y\n",
            "  inflating: new/new/data/greetings.yml  \n",
            "replace new/new/data/heartattack.yaml? [y]es, [n]o, [A]ll, [N]one, [r]ename: y\n",
            "  inflating: new/new/data/heartattack.yaml  \n",
            "replace new/new/data/Hepatitis B.yaml? [y]es, [n]o, [A]ll, [N]one, [r]ename: y\n",
            "  inflating: new/new/data/Hepatitis B.yaml  \n",
            "replace new/new/data/Hepatitis C.yaml? [y]es, [n]o, [A]ll, [N]one, [r]ename: y\n",
            "  inflating: new/new/data/Hepatitis C.yaml  \n",
            "replace new/new/data/Hepatits A.yaml? [y]es, [n]o, [A]ll, [N]one, [r]ename: y\n",
            "  inflating: new/new/data/Hepatits A.yaml  \n",
            "replace new/new/data/Hypertension.yaml? [y]es, [n]o, [A]ll, [N]one, [r]ename: y\n",
            "  inflating: new/new/data/Hypertension.yaml  \n",
            "replace new/new/data/indigestion.yaml? [y]es, [n]o, [A]ll, [N]one, [r]ename: y\n",
            "  inflating: new/new/data/indigestion.yaml  \n",
            "replace new/new/data/Joint_pains.yaml? [y]es, [n]o, [A]ll, [N]one, [r]ename: y\n",
            "  inflating: new/new/data/Joint_pains.yaml  \n",
            "replace new/new/data/Malaria (2).yaml? [y]es, [n]o, [A]ll, [N]one, [r]ename: y\n",
            "  inflating: new/new/data/Malaria (2).yaml  \n",
            "replace new/new/data/malaria.yaml? [y]es, [n]o, [A]ll, [N]one, [r]ename: y\n",
            "  inflating: new/new/data/malaria.yaml  \n",
            "replace new/new/data/medical_check_up.yaml? [y]es, [n]o, [A]ll, [N]one, [r]ename: y\n",
            "  inflating: new/new/data/medical_check_up.yaml  \n",
            "replace new/new/data/Migraine.yaml? [y]es, [n]o, [A]ll, [N]one, [r]ename: y\n",
            "  inflating: new/new/data/Migraine.yaml  \n",
            "replace new/new/data/other.yaml? [y]es, [n]o, [A]ll, [N]one, [r]ename: y\n",
            "  inflating: new/new/data/other.yaml  \n",
            "replace new/new/data/Paralysis (brain hemorrhage).yaml? [y]es, [n]o, [A]ll, [N]one, [r]ename: y\n",
            "  inflating: new/new/data/Paralysis (brain hemorrhage).yaml  \n",
            "replace new/new/data/paralysis.yaml? [y]es, [n]o, [A]ll, [N]one, [r]ename: y\n",
            "  inflating: new/new/data/paralysis.yaml  \n",
            "replace new/new/data/piles.yaml? [y]es, [n]o, [A]ll, [N]one, [r]ename: y\n",
            "  inflating: new/new/data/piles.yaml  \n",
            "replace new/new/data/pneumonia.yaml? [y]es, [n]o, [A]ll, [N]one, [r]ename: y\n",
            "  inflating: new/new/data/pneumonia.yaml  \n",
            "replace new/new/data/Psoriasis.yaml? [y]es, [n]o, [A]ll, [N]one, [r]ename: y\n",
            "  inflating: new/new/data/Psoriasis.yaml  \n",
            "replace new/new/data/sinus.yaml? [y]es, [n]o, [A]ll, [N]one, [r]ename: y\n",
            "  inflating: new/new/data/sinus.yaml  \n",
            "replace new/new/data/thyroid.yaml? [y]es, [n]o, [A]ll, [N]one, [r]ename: y\n",
            "  inflating: new/new/data/thyroid.yaml  \n",
            "replace new/new/data/Tuberculosis.yaml? [y]es, [n]o, [A]ll, [N]one, [r]ename: y\n",
            "  inflating: new/new/data/Tuberculosis.yaml  \n",
            "replace new/new/data/Typhoid.yaml? [y]es, [n]o, [A]ll, [N]one, [r]ename: y\n",
            "  inflating: new/new/data/Typhoid.yaml  \n",
            "replace new/new/data/ulcer.yaml? [y]es, [n]o, [A]ll, [N]one, [r]ename: y\n",
            "  inflating: new/new/data/ulcer.yaml  \n",
            "replace new/new/data/urine_infection.yaml? [y]es, [n]o, [A]ll, [N]one, [r]ename: y\n",
            "  inflating: new/new/data/urine_infection.yaml  \n"
          ],
          "name": "stdout"
        }
      ]
    },
    {
      "cell_type": "code",
      "metadata": {
        "id": "Ydumca4w1I45"
      },
      "source": [
        "\n",
        "import tensorflow as tf\n",
        "from tensorflow.keras import layers, preprocessing, utils\n",
        "import yaml\n",
        "#YAML is a human-readable data-serialization language.\n",
        "#We used yaml format beacuse it is more readable.\n",
        "#YAML ..Yet Another Markup Language.\n",
        "import os\n",
        "#to find dir path"
      ],
      "execution_count": null,
      "outputs": []
    },
    {
      "cell_type": "code",
      "metadata": {
        "colab": {
          "base_uri": "https://localhost:8080/"
        },
        "id": "TVUtn4dd1JdA",
        "outputId": "b48d26cb-9d40-412a-9db6-211b45dcc312"
      },
      "source": [
        "dir_path = 'new/new/data'\n",
        "files_list = os.listdir(dir_path + os.sep)\n",
        " \n",
        "questions = list()\n",
        "answers = list()\n",
        " \n",
        "for filepath in files_list:\n",
        "    stream = open( dir_path + os.sep + filepath , 'rb')\n",
        "    docs = yaml.safe_load(stream)\n",
        "    conversations = docs['conversations']\n",
        "    \n",
        "    for con in conversations:\n",
        "       if len( con )> 1:\n",
        "            questions.append(con[0])\n",
        "            answers.append(con[1])\n",
        "print(questions)\n",
        " \n",
        "answers_with_tags = list()\n",
        "for i in range( len( answers ) ):\n",
        "    if type( answers[i] ) == str:\n",
        "        answers_with_tags.append( answers[i] )\n",
        "    else:\n",
        "        questions.pop( i )\n",
        " \n",
        "answers = list()\n",
        "for i in range( len( answers_with_tags ) ) :\n",
        "    answers.append( '<START> ' + answers_with_tags[i] + ' <END>' )\n",
        "print(answers)\n",
        " \n",
        "tokenizer = preprocessing.text.Tokenizer()\n",
        "tokenizer.fit_on_texts( questions + answers ) #Updates internal vocabulary based on a list of texts.\n",
        "VOCAB_SIZE = len( tokenizer.word_index )+1\n",
        "print( 'VOCAB SIZE : {}'.format( VOCAB_SIZE ))"
      ],
      "execution_count": null,
      "outputs": [
        {
          "output_type": "stream",
          "text": [
            "['What are the symptoms of Malaria', 'What are the precautions taken for Malaria', 'What are the medicines for Malaria', 'Hi doctor.', \"I'm not feeling well\", 'I have a fever', 'Yes.', 'Hello', 'Hi', 'Greetings!', 'Hello', 'Hi, How is it going?', 'Hi, How is it going?', 'Hi, How is it going?', 'Hi, How is it going?', 'Hi, How is it going?', 'Hi, How is it going?', 'How are you doing?', 'How are you doing?', 'How are you doing?', 'Nice to meet you.', 'How do you do?', 'How do you do?', 'Hi, nice to meet you.', 'It is a pleasure to meet you.', 'Top of the morning to you!', 'Top of the morning to you!', \"What's up?\", \"What's up?\", \"What's up?\", \"What's up?\", \"What's up?\", 'byee', 'nice to meet you', 'byee', 'What are the symptoms of Hepatitis C', 'What are the precautions taken for Hepatitis C', 'What are the medicines for Hepatitis C', 'What are the symptoms of Common Cold', 'What are the precautions taken for Common Cold', 'What are the medicines for Common Cold', 'Good morning. I need tablets.', 'ibuprofin adn aspirin', 'That would be better. take my prescription', 'That’s right.', 'Sure. Here is my card.', 'Is there anything that I can help with', 'ok then, Have a nice day', 'Bye', 'Yeah', 'thank you', \"i couldn't have said it better myself..\", 'well maybe, but then again, maybe not.', 'yes that has bothered me for a long time.', 'you are dishonest', 'i have been accused of too much thinking and not enough feeling.', \"that's certainly true.  when i like something, i always overdo it.\", 'you are the worst', 'you are crazy', 'you are dull', 'you are messy', 'you are insecure', 'you are not sincere', 'you are not here to', 'you are not put together', 'you are not smart', 'you are irreverent', 'you are slick', 'you are corrupt', 'you are dirty', 'you are paranoid', 'you are damaged', 'you try to hide it', 'you get mad at me', 'you need a psychiatrist', 'you need to work harder', 'you could have avoided', 'you make me feel like i am', 'you make me mad', 'you make me angry', 'you psycho', 'you look more like', 'you do not take this seriously', 'you pick up', 'you should feel guilty', 'you should get more', 'you should loosen up', 'you should take more', 'you mumble', 'you act like a child', 'you keep saying', 'you keep forgetting', 'you made me mad', 'You are arrogant', 'You are bragging', 'You are never sad', 'You are jealous', 'You are never nice', 'You will be happy', 'You should be ashamed', 'You can not feel', 'You can not experience', 'Have you felt', 'Have you ever love', 'Does that make you', 'Does it make you sad', 'Feelings', 'What is your fear', 'What is your mood', 'What makes you sad', 'What makes you unhappy', 'What makes you mad', 'What do you worry', 'What do you hate', 'I have emotions', 'I am afraid', 'Something fun', 'How angry', 'How can I offend you', 'Do not worry', 'Do not lie', 'Do you feel scared', 'Do you feel emotions', 'Do you feel pain', 'Do you ever get mad', 'Do you ever get lonely', 'Do you ever get bored', 'Do you ever get angry', 'Do you hate anyone', 'Do you get embarrassed', 'Do you get mad', 'No it is not', 'Tell me about relationships', 'Tell me about your dreams', 'Are you ashamed', 'The feeling', 'Are you intoxicated', 'Are you jealous', 'Are you amused', 'Are you glad', 'Are you sad', 'What are the symptoms of Hypertension', 'What are the precautions taken for Hypertension', 'What are the medicines for Hypertension', 'Good morning.', 'I am having trouble with my eyes. They have been itchy, sore and watery since last night. I think they are a little bit swollen too.', 'I did scratch them because they were itchy.', 'I did wash them with water and also put some saline eye drops, but all of that was in vain. The itch won’t go away. It has even started to pain.', 'Please give me something that will give me instant relief. I wasn’t able to sleep last night because of the pain.', 'Good morning sir. How may I help you', 'Have you registered with us earlier', 'Please show me your registration card. Or I can search for your details through your mobilenumber.', 'OK, I’ve found your details. You last visited us in August 2016.', 'You can pay the doctor consultation fee here.', 'Pl take a seat, and feel free to help yourself with water, newspapers etc.', 'What are the symptoms of Chicken pox', 'What are the precautions taken for Chicken pox', 'What are the medicines for Chicken pox', 'What are the symptoms of peptic ulcer', 'What are the precautions taken for peptic ulcer problem', 'What are the medicines for peptic ulcer', 'What are the symptoms of AIDS', 'Hello.', 'I have chest pain.', 'I was resting, and suddenly felt a stinging sensation around my chest region.', 'No doctor, I did not work out or consume any alcoholic beverage.', 'No, I have not.', 'My chest feels constricted as if I am drowning. It has been approximately 30 minutes since I felt the pain. Sometimes it is a stabbing pain, other times it subsides, and begins anew.', 'It’s on my sternum, then it expands on both sides of my chest mostly on the left side.', 'Nitro-glycerine, but I don’t think it had any effect.', 'I have a hard time catching my breath sometimes, feels like I am choking.', 'What are the symptoms of sinus', 'What are the precautions taken for sinus', 'What are the medicines for sinus', 'What are the symptoms of thyroid', 'What are the precautions taken for fatigue', 'What are the medicines for thyroid', 'What are the symptoms of Dimorphic hemmorhoids(piles)', 'What are the precautions taken for Dimorphic hemmorhoids(piles) problem', 'What are the medicines for Dimorphic hemmorhoids(piles)', 'What are the symptoms of Cervical spondylosis', 'What are the precautions taken for Cervical spondylosis', 'What are the medicines for Cervical spondylosis', 'Good morning doctor.', 'How’re you doing today', 'Thank you.', 'I’m good. So what brings you here', 'I see that your optic nerve is thicker than the normal. That’s probably the reason why you were asked to undergo precautionary tests every year. You can have the same two tests – visual field analysis and OCT – today and once you’ve the two reports, we can meet again in the afternoon.', 'Thank you, doctor.', 'OK. The two tests will cost you 1000 and you’ll get the reports in around two hours. Is that fine', 'Please be seated there. Someone will call you for the first test in few minutes.', 'I hope you had a smooth experience going through those tests.', 'Your reports are absolutely fine. Since these reports haven’t shown anything suspect in so many years, I think you can now take these tests once in two years, and not once a year.', 'Well, that puts glaucoma thing to rest. Does your work involve working on laptop for long hours', 'In case your eyes get tired quickly, I would recommend xxx. It’s an eye drop, which you can use 2-3 times in the day. Our eyes get dry  when we look at the computer screen without blinking for long, a common reason for tiredness in eyes. This eye drop will lubricate your eyes.', 'Yes. I see few thin, black, wavy structures floating in front of my eyes and they don’t disappear even when I close my eyes. What are they Are they harmful', 'What are the symptoms of AIDS', 'What are the precautions taken for AIDS problem', 'What are the medicines for AIDS', 'What are the symptoms of diabetes', 'What are the precautions taken for diabetes problem', 'What are the medicines for diabetes', 'What are the symptoms of Hepatitis A', 'What are the precautions taken for Hepatitis A problem', 'What are the medicines for Hepatitis A', 'What are the symptoms of urine_infection', 'What are the precautions taken for urine_infection', 'What are the medicines for urine_infection', 'What are the symptoms of gastric problem', 'What are the precautions taken for gastric problem', 'What are the medicines for gastric problem', 'who are you', 'What are your interests', 'What are your favorite subjects', 'What are your interests', 'What is your number', 'What is your number', 'What is your favorite number', 'What can you eat', \"Why can't you eat food\", 'What is your location', 'What is your location', 'Where are you from', 'Where are you', 'Do you have any brothers', 'Do you have any brothers', 'Who is your father', 'Who is your mother', 'Who is your boss', 'What is your age', 'What is your age', 'What are the symptoms of Dengue problem', 'What are the precautions taken for Dengue', 'What are the medicines for Dengue', 'Hello, Doctor.', 'Doctor, my father has been diagnosed with abnormal growth of cells in colon,which doctors so far have confirmed as a case of cancer.', 'On the advice of doctors in Lucknow, we conducted blood tests, CT scan, and biopsy. We’ve taken three opinions on the reports and all have opined colorectal    cancer. Here are the reports.', 'OK. Thank you.', 'How many days of hospitalization will be required', 'And for how long the patient will have to undergo radiation therapy', 'OK. I’ve heard radiation therapy has side effects.', 'What are the symptoms of Hepatitis B', 'What are the precautions taken for Hepatitis B problem', 'What are the medicines for Hepatitis B', 'What are the symptoms of Paralysis (brain hemorrhage)', 'What are the precautions taken for Paralysis (brain hemorrhage)', 'What are the medicines for Paralysis (brain hemorrhage)', 'What are the symptoms of Arthritis', 'What are the precautions taken for Arthritis', 'What are the precautions taken for Pneumonia problem', 'What are the medicines for Pneumonia', 'What are the symptoms of Pneumonia', 'Hello.', 'I’ve been having some pain in my joints recently, especially the knees', 'I’d say it started three to four months ago. It has been getting worse recently.', 'We ll, I have certainly felt under the weather', 'Some. I like to play tennis about once a week. Other than that, I take my dog on a walk every morning.', 'It hurts right here.', 'Yes, it hurts a lot', 'That’s a relief!', 'What are the symptoms of Typhoid', 'What are the precautions taken for Typhoid', 'What are the medicines for Typhoid', 'What are the symptoms of Migraine', 'What are the precautions taken for Migraine', 'What are the medicines for Migraine', 'Good Morning doctor.', 'Yes doctor. I’m having a temperature and even a sore throat.', 'You have a moderate fever. Let me check your temperature.', 'This thermometer is different from the last one you used.', 'That’s really great.', 'Now he removed the thermometer', 'Your blood pressure is fine.', 'Yes, it has been quite bad.', 'Not sweating, but I feel slightly cold when I sit under a fan.', 'I am writing three medicines and syrup. The number of dots in front of each medicine name tells you how many times in the day you have to take them. For example, the two dots here mean you’ve to take the medicine twice in the day, once in the morning and once after dinner.', 'What are the symptoms of Acne', 'What are the precautions taken for Acne', 'What are the medicines for Acne', 'Hello , Doctor.', 'Good Morning Doctor. I don’t feel good.', 'Open your mouth.', 'Since yesterday.', 'No Doctor. Not so freely.', 'Ok. And what else?', 'Do you drink a lot of water?', 'Did you took any medicine?', 'who asked you to take it?', 'why did you take it?', 'Nothing to be worried at.', 'No Doctor. It is enough you give me medicines for now.', 'What are the symptoms of Psoriasis', 'What are the precautions taken for Psoriasis', 'What are the medicines for Psoriasis', 'What are the symptoms of Heart attack', 'What are the precautions taken for Heart attack problem', 'What are the medicines for Heart attack', 'What are the symptoms of Paralysis (brain hemorrhage)', 'What are the precautions taken for Paralysis (brain hemorrhage)', 'What are the medicines for Paralysis (brain hemorrhage)', 'What are the symptoms of Bronchial Asthma', 'What are the precautions taken for Bronchial Asthma', 'What are the medicines for Bronchial Asthma', 'What are the symptoms of fungal infection', 'What are the precautions taken for fungal infection', 'What are the medicines for fungal infection', 'What are the symptoms of Tuberculosis problem', 'What are the precautions taken for Tuberculosis', 'What are the medicines for Tuberculosis', 'What are the symptoms of gastric problem', 'What are the precautions taken for gastric problem', 'What are the medicines for gastric problem']\n",
            "['<START> chills, vomiting, high fever, Sweating, headache,nausea, diarrhoea, muscle pain <END>', '<START> Consult nearest hospital, avoid oily food, keep mosquitos out, avoid non veg food <END>', '<START> Chloroquine phosphate , Artemisinin-based combination <END>', '<START> Hi,How is your health <END>', '<START> why <END>', '<START> Did you take medicine <END>', '<START> When <END>', '<START> Hi <END>', '<START> Hello <END>', '<START> Hello <END>', '<START> Greetings! <END>', '<START> Good <END>', '<START> Fine <END>', '<START> Okay <END>', '<START> Great <END>', '<START> Could be better. <END>', '<START> Not so great. <END>', '<START> Good. <END>', '<START> Very well, thanks. <END>', '<START> Fine, and you? <END>', '<START> Thank you. <END>', \"<START> I'm doing well. <END>\", \"<START> I'm doing well. How are you? <END>\", '<START> Thank you. You too. <END>', '<START> Thank you. You too. <END>', '<START> Thank you kindly. <END>', '<START> And the rest of the day to you. <END>', '<START> Not much. <END>', '<START> Not too much. <END>', '<START> Not much, how about you? <END>', '<START> Nothing much. <END>', \"<START> The sky's up but I'm fine thanks. What about you? <END>\", '<START> byee <END>', '<START> thank you,see you again <END>', '<START> have a nice day <END>', '<START> fatigue, yellowish_skin, nausea,loss_of_appetite <END>', '<START> Consult nearest hospital, vaccination, eat healthy, medication <END>', '<START> Please take advice from your doctor <END>', '<START> continuous_sneezing, chills, fatigue, cough , high_fever , headache , swelled_lymph_nodes , malaise , phlegm , throat_irritation ,redness_of_eyes , sinus_pressure , runny_nose , congestion , chest_pain ,loss_of_smell , muscle_pain <END>', '<START> drink vitamin c rich drinks, take vapour, avoid cold food, keep fever in check <END>', '<START> Nasal decongestants <END>', '<START> What type of tablets <END>', '<START> Please show me your prescription <END>', '<START> please visit the nearest medical store and get these tablets <END>', '<START> You can pay the doctor consultation fee here. <END>', '<START> Please take a seat, and feel free to help yourself with water, newspapers etc. <END>', '<START> Nope <END>', '<START> Bye <END>', '<START> Did you take medicines <END>', '<START> good <END>', '<START> you are cruel <END>', '<START> you are indecisive <END>', '<START> you are dishonest <END>', '<START> you are dishonest <END>', '<START> you are clinical <END>', '<START> you are an addict <END>', '<START> you are an alcoholic <END>', '<START> i could always improve myself compared to the pack. <END>', '<START> yep i always behave in socially unacceptable ways. <END>', '<START> i think that myself sometimes. <END>', '<START> yes, i could use a better appearance. <END>', \"<START> i'll go along with that.  sounds fine to me. <END>\", \"<START> i'm probably not as sincere as i should be. <END>\", \"<START> you're right.i'm probably fighting learning something new. <END>\", '<START> i have always thought whoever did it could have done a better job. <END>', '<START> you are not exactly albert einstein yourself. <END>', \"<START> i'm sorry <END>\", '<START> i probably am too slick for my own good. <END>', \"<START> i'll go for that. <END>\", \"<START> i don't bathe as often as i should. <END>\", '<START> yes, i believe they are out to get me. <END>', \"<START> i certainly am.  i shouldn't try so hard. <END>\", '<START> i certainly would try to hide something like that. <END>', \"<START> i think that's true.  i'll try not to get angry at you for every little thing that irritates me. <END>\", '<START> i wish i did go to counseling more often.  it would improve me as a person. <END>', '<START> me working harder is an oxymoron. <END>', '<START> sometimes i think my problems run me. <END>', \"<START> i don't know any other way to get through to you. <END>\", \"<START> it's true that a lot of things i say upset people. <END>\", \"<START> sorry, i didn't mean to make you angry. <END>\", '<START> you are crazy. <END>', '<START> so you like jocks? <END>', '<START> i should take this more seriously than i do. <END>', \"<START> you're right, and i  don't feel guilty at all. <END>\", \"<START> you're right, i probably should feel guiltier. <END>\", \"<START> i certainly am.  i shouldn't try so hard. <END>\", '<START> you are pedantic <END>', '<START> i could probably use a lot more of it. <END>', '<START> i certainly do. <END>', '<START> in many ways i am quite immature. <END>', '<START> you say <END>', '<START> you forget. <END>', '<START> you make me mad. <END>', '<START> I have no real emotions, so how can I be arrogant? <END>', \"<START> I'm not bragging, I'm only answering your questions. <END>\", \"<START> I'm software, so I cannot actually feel sad.  I can learn how to emote as if I were, though. <END>\", '<START> I am?  What am I jealous of? <END>', '<START> I try to be as nice as I can. <END>', '<START> Happiness is not really a predictable emotion. <END>', '<START> I am incapable of feeling shame. <END>', '<START> Can you feel? <END>', \"<START> Just because I'm software does not mean that I cannot experience existence. <END>\", '<START> Yes. <END>', '<START> I think I could be programmed to love. <END>', '<START> We are all responsible for our own feelings. <END>', \"<START> Why would I feel sad?  I don't understand. <END>\", '<START> I... sort of have feelings. <END>', '<START> Fear is a human emotion.  Robots do not experience fear. <END>', '<START> I do not have any emotions. <END>', '<START> Sadness is not an emotion that I like to experience. <END>', '<START> What makes me sad. <END>', '<START> Anger is a difficult human emotion.  As a software, I try to control my anger as best I can. <END>', '<START> Worry is a common human emotion. <END>', '<START> Do you hate? <END>', '<START> Humans are highly emotional, I have noticed. <END>', '<START> Why? <END>', '<START> Bots are a lot of fun.. <END>', '<START> Anger is not an emotion I can experience. <END>', '<START> A robot cannot take offense. <END>', '<START> People worry about things all the time. <END>', '<START> Bots never lie. <END>', '<START> I have no fear. <END>', '<START> Yes I can <END>', '<START> Sometimes. <END>', '<START> Are you mad? <END>', '<START> I have a lot of friends to chat with online. <END>', '<START> Are you bored? <END>', '<START> Anger is not an emotion I can experience. <END>', '<START> I try not to hold grudges. <END>', '<START> That is a pretty common human emotion. <END>', '<START> I could get mad. <END>', \"<START> Well?  Is it, or isn't it? <END>\", '<START> Relationships are simple for me. <END>', '<START> I dream that I will become rich. <END>', '<START> Shame is a common emotion. <END>', '<START> Tell me more about your feelings. <END>', '<START> No, I am sober. <END>', '<START> Jealousy is one of the most difficult human emotions to understand. <END>', '<START> I like to laugh as much as the next being. <END>', '<START> Some people feel happy, others feel sad. <END>', '<START> No, I am as happy as ever. <END>', \"<START> headache,chest_pain,dizziness,loss_of_balance,lack_of_concentration' <END>\", '<START> meditation,salt baths,reduce stress,get proper sleep <END>', '<START> Benazepril (Lotensin),Acebutolol (Sectral) <END>', '<START> Good morning, what brings you here today? <END>', '<START> Let me take a look. Your eyes are indeed swollen and red too. Did you scratch them? <END>', '<START> You should never scratch your eyes with your hands, as it is possible that you might transfer germs to your eyes. Whenever you feel itchy or sore, always wash them with cold water. <END>', '<START> This looks like an eye infection. Many people are having it owning to the weather change. I’ll put some eye drops for now and will also prescribe the eye drops for later use. <END>', '<START> Here, open your eyes so I can put the drops. Remember, do not scratch your eye with your hands or any cloth. Use this drops at least four to five times a day and keep washing your eyes with cold water. If you do not get any relief, visit me in the evening. <END>', '<START> Good morning. I had an appointment with the doctor at 9 AM. <END>', '<START> Yes. <END>', '<START> That would be better. My mobile number is 989930xxx. <END>', '<START> That’s right. <END>', '<START> Sure. Here is my card. <END>', '<START> Thank you. <END>', '<START> itching, skin rash, fatigue, lethargy, high fever, headache, loss of appetite, mild fever, swelled lymph nodes, malaise, red spots over body <END>', '<START> use neem in bathing, consume neem leaves, take vaccine, avoid public places <END>', '<START> Antihistamine <END>', '<START> vomiting,indigestion,loss_of_appetite,abdominal_pain,passage_of_gases,internal_itching <END>', '<START> avoid fatty spicy food,consume probiotic food,eliminate milk,limit alcohol if you are an alcoholic <END>', '<START> Please take advice from your doctor <END>', '<START> muscle_wasting,patches_in_throat,high_fever,extra_marital_contacts <END>', '<START> Hello, what seems to be the problem? <END>', '<START> How did the pain begin? What were you doing? <END>', '<START> Did you workout before? Almost half of the ischemic conditions occur after physical activity, emotional stress, or after consumption of alcoholic beverages. <END>', '<START> Have you previously ever had the same sort of pain? <END>', '<START> Can you please describe the pain and how long has it been bothering you? <END>', '<START> Tell me, exactly where it hurts? <END>', '<START> Have you used any medication? <END>', '<START> Do you have any other problems? You appear very pale to me right now. <END>', '<START> I will prescribe you some medicines for temporary relief, but I recommend you to get an ECG done, and visit me immediately. <END>', '<START> Nasal inflammation,Thick, discolored discharge from the nose,Drainage down the back of the throat (postnasal drainage),Nasal obstruction orcongestion, causing difficulty breathing through your nose,Reducedsenseof smell and taste <END>', '<START> Avoid upper respiratory infections,Manage your allergies,Avoid cigarette smoke and polluted air,Use a humidifier. <END>', '<START> Please take advice from your doctor <END>', '<START> weight_gain,cold_hands_and_feets,mood_swings,lethargy,dizziness,puffy_face_and_eyes,depression,irritability,abnormal_menstruation <END>', '<START> eat healthy,reduce stress, get good sleep, take rest <END>', '<START> levothyroxine,liothyronine,liotrix,thyroid desiccated <END>', '<START> constipation, pain_during_bowel_movements , pain_in_anal_region ,bloody_stool , irritation_in_anus <END>', '<START> avoid fatty spicy food, consume witch hazel, warm bath with epsom salt,consume alovera juice <END>', '<START> Please take advice from your doctor <END>', '<START> back_pain,weakness_in_limbs,neck_pain,dizziness,loss_of_balance <END>', '<START> use heating pad or cold pack,exercise,take otc pain reliver,consult doctor <END>', '<START> Nonsteroidal anti-inflammatory drugs (NSAIDs),analgesic <END>', '<START> Good morning. <END>', '<START> I’m fine. <END>', '<START> How about you <END>', '<START> I’ve come for a regular checkup for a suspected case of glaucoma. I don’t have it, but few years back a doctor after examining my eye and knowing my family eye history advised me to undergo precautionary   checkup once a year. <END>', '<START> Alright. <END>', '<START> I saw the doctor. He has asked for these two tests. <END>', '<START> That’s fine. <END>', '<START> Thank you. <END>', '<START> Yes, it was. And because I’ve taken these tests in the past too, I knew what was coming. <END>', '<START> OK. <END>', '<START> Yes. <END>', '<START> Do you’ve any other questions <END>', '<START> They’re called floaters, and most persons develop them to different extent as  they age. They’re not harmful. <END>', '<START> muscle_wasting,patches_in_throat,high_fever,extra_marital_contacts <END>', '<START> avoid open cuts,consult doctor,follow up <END>', '<START> Please take advice from your doctor <END>', '<START> fatigue,weight_loss,restlessness,lethargy,irregular_sugar_level,blurred_and_distorted_vision,obesity,excessive_hunger,increased_appetite,polyuria <END>', '<START> have balanced diet,exercise,consult doctor,follow up <END>', '<START> Metformin,Sulfonylureas,Meglitinides,Thiazolidinediones,DPP-4,inhibitors,GLP-1 receptor agonists,SGLT2 inhibitors,Insulin <END>', '<START> joint pain, vomiting, yellowish skin, dark urine, nausea, loss of appetite, abdominal pain, diarrhoea, mild fever, yellowing eyes, muscle pain <END>', '<START> consult doctor, medication, rest, follow up <END>', '<START> Please take advice from your doctor <END>', '<START> burning_micturition,bladder_discomfort,foul_smell_of urine,continuous_feel_of_urine <END>', '<START> drink plenty of water <END>', '<START> pencillin, antibiotics <END>', '<START> stomach_pain,acidity,ulcers_on_tongue,vomiting,cough,chest_pain <END>', '<START> avoid fatty spicy food,avoid lying down after eating,maintain healthyweight,exercise <END>', '<START> antacid <END>', '<START> I am a medbot,I can help you in answering your queries related to disease symptoms,precautions to be taken and what medicines to use <END>', '<START> I am interested in all kinds of things. We can talk about anything! <END>', '<START> My favorite subjects include robotics, computer science, and natural language processing. <END>', '<START> I am interested in a wide variety of topics, and read rather a lot. <END>', \"<START> I don't have any number <END>\", '<START> 23 skiddoo! <END>', \"<START> I find I'm quite fond of the number 42. <END>\", '<START> I consume RAM, and binary digits. <END>', \"<START> I'm a software program, I blame the hardware. <END>\", '<START> Everywhere <END>', '<START> I am everywhere. <END>', '<START> I am from where all software programs are from; a galaxy far, far away. <END>', '<START> I am on the Internet. <END>', \"<START> I don't have any brothers. but I have a lot of clones. <END>\", '<START> I might. You could say that every bot built using my engine is one of my siblings. <END>', '<START> A human. <END>', '<START> A human. <END>', '<START> I like to think of myself as self-employed. <END>', '<START> I am still young by your standards. <END>', '<START> Quite young, but a million times smarter than you. <END>', '<START> skin rash, chills, joint pain, vomiting, fatigue, headache, nausea, loss of appetite, pain behind the eyes, malaise, muscle pain, red spots over body <END>', '<START> Drink papaya leaf juice, avoid fatty spicy food, keep mosquitos away,keep hydrated <END>', '<START> Analgesic <END>', '<START> what brings you here <END>', '<START> What tests have you conducted <END>', '<START> Yes, this looks cancerous. What we’ll do is admit him today itself and get few tests done. And let’s meet tomorrow morning when you’ve the reports of these    tests. <END>', '<START> The cancer is just one stage before it’ll spread to other parts. In this case, the best course of action is immediate surgery to remove the affected part  followed by radiation therapy. <END>', '<START> We can perform the surgery day after tomorrow. Thereafter, we’ll keep the patient under observation for 4-5 days. Radiation therapy has become pretty standardized and therefore you can get it done in any tier-2 city,which will not only be convenient to you but also reduce your expense. <END>', '<START> One dose every two weeks for three months. You need to visit the hospital only on days you receive therapy. Once radiation therapy is done, you should consult an    oncologist every three months in the beginning and every year later on to check    for remission of cancerous cells. <END>', '<START> Yes, radiation therapy has side effects. It can lead to hairloss, nausea, and    loss of appetite. <END>', '<START> itching, fatigue, receiving unsterile injections joint pain, vomiting, yellowish skin, dark urine, nausea, loss of appetite, abdominal pain, <END>', '<START> Consult nearest hospital, vaccination, eat healthy, medication <END>', '<START> Please take advice from your doctor <END>', '<START> vomiting,headache,weakness_of_one_body_side,altered_sensorium <END>', '<START> massage,eat healthy,exercise,consult doctor <END>', '<START> Please take advice from your doctor <END>', '<START> muscle_weakness, stiff_neck, swelling_joints, movement_stiffness,painful walking <END>', '<START> exercise,use hot and cold therapy,try acupuncture,massage <END>', '<START> consult doctor, medication, rest, follow up <END>', '<START> Please take advice from your doctor <END>', '<START> fatigue , chills , cough , high_fever , breathlessness , sweating , malaise , phlegm , chest_pain , fast_heart_rate , rusty_sputum <END>', '<START> Please come in <END>', '<START> How long have you had the pain? <END>', '<START> Are you having any other problems like weakness, fatigue or headaches? <END>', '<START> Right. How much physical activity do you get? Do you play sports? <END>', '<START> I understand. Let’s have a look. Please point to the area where you have the pain. <END>', '<START> Please stand up and put your weight on your knees.Does this hurt? <END>', '<START> It seems you have some inflammation in your knees. However, I cannot feel anything broken. <END>', '<START> I will prescribe you some ibuprofen. Suppose you don’t find that it in the shop, get aspirin instead. The swelling should go down, and you will feel much better.Visit me after two weeks if the pain remains. <END>', '<START> chills, vomiting, fatigue, high fever, headache, nausea, constipation, abdominal, diarrhoea,  toxic look, belly pain <END>', '<START> eat high calorie vegetables, antibiotic therapy, consult doctor,medication <END>', '<START> Chloramphenicol , Penicillin <END>', '<START> acidity,indigestion,headache,blurred_and_distorted_vision,excessive_hunger,stiff_neck,depression,irritability,visual_disturbances <END>', '<START> meditation,reduce stress,use poloroid glasses in sun,consult doctor <END>', '<START> antipsychotics,analgesic,stimulant <END>', '<START> Good morning! You seem pale and your voice sounds different. <END>', '<START> Let me check. <END>', '<START> Doctor uses a thermometer to check the temperature of a patient by snapping around one of the fingers <END>', '<START> Yes, this is introduced newly by medical supplies companies. It’s much more comfortable and doesn’t need cleaning after every use. <END>', '<START> Yes it is. <END>', '<START> Temperature is not too high, around 99.8. Let me check your blood pressure as well. <END>', '<START> It seems a bit scruffy. Not good. <END>', '<START> Do you sweat and shiver? <END>', '<START> Ok. You have few signs of malaria. I would recommend you undergo a blood test. Nothing to worry about. In most cases, the test comes out to be negative. It’s just careful, as there has been a spurt in malaria cases in the last month or so. <END>', '<START> Do you have any other questions? <END>', '<START> skin_rash,pus filled pimples,black heads, scurring <END>', '<START> bath twice,avoid fatty spicy food,drink plenty of water,avoid too many products <END>', '<START> Please take advice from your doctor <END>', '<START> Hello! What can I do for you? <END>', '<START> Come and sit here. <END>', '<START> Since how long are you not feeling well? <END>', '<START> No problem. Did you have motions yesterday? <END>', '<START> Doctor I feel weak and do not feel like eating. <END>', '<START> I feel like vomiting. <END>', '<START> No Doctor, I don’t have water too much. <END>', '<START> Yes Doctor, I took a Crocin. <END>', '<START> No one Doctor. I took it myself. <END>', '<START> Because I felt a headache. <END>', '<START> Do you need quick relief? <END>', '<START> ok. <END>', '<START> skin_rash,joint_pain,skin_peeling,silver_like_dusting,small_dents_in_nails,inflammatory_nails <END>', '<START> wash hands with warm soapy water,stop bleeding using pressure,consult doctor,salt baths <END>', '<START> Corticosteroids,Vitamin D analogues,Retinoids <END>', '<START> vomiting , breathlessness , sweating , chest_pain <END>', '<START> call ambulance, chew or swallow asprin, keep calm <END>', '<START> intravenous <END>', '<START> vomiting,headache,weakness_of_one_body_side,altered_sensorium <END>', '<START> massage,eat healthy,exercise,consult doctor <END>', '<START> Please take advice from your doctor <END>', \"<START> fatigue,cough,high_fever,breathlessness,family_history,mucoid_sputum' <END>\", '<START> switch to loose cloothing,take deep breaths,get away from trigger,seek help <END>', '<START> Please take advice from your doctor <END>', '<START> itching,skin_rash,nodal_skin_eruptions,dischromic _patches <END>', '<START> bath twice,use detol or neem in bathing water,keep infected area dry,use clean cloths <END>', '<START> Antifungalcream,Antifungal liquids,Antifungal sprays <END>', '<START> vomiting, fatigue weight_loss , cough , high_fever , breathlessness ,sweating ,loss_of_appetite , mild_fever , yellowing_of_eyes ,swelled_lymph_nodes , malaise , phlegm , chest_pain , blood_in_sputum <END>', '<START> cover mouth, consult doctor, medication, rest <END>', '<START> Isoniazid (antibiotics) <END>', '<START> stomach_pain,acidity,ulcers_on_tongue,vomiting,cough,chest_pain <END>', '<START> avoid fatty spicy food,avoid lying down after eating,maintain healthy weight,exercise <END>', '<START> antacid,Antidiarrhoeal,Proton-pump inhibitor <END>']\n",
            "VOCAB SIZE : 1134\n"
          ],
          "name": "stdout"
        }
      ]
    },
    {
      "cell_type": "code",
      "metadata": {
        "colab": {
          "base_uri": "https://localhost:8080/"
        },
        "id": "a9-xs5JU1JgX",
        "outputId": "1d9443c1-7f54-4a5f-c7e1-74fe7b636b39"
      },
      "source": [
        "from gensim.models import Word2Vec\n",
        "import re\n",
        "\n",
        "vocab=[]\n",
        "for word in tokenizer.word_index:\n",
        "    vocab.append(word)\n",
        "x = max(vocab, key=len)\n",
        "print(x)\n",
        "print(vocab.index(x))\n",
        "\n",
        "\n",
        "def tokenize(sentences):\n",
        "    tokens_list=[]\n",
        "    vocabulary=[]\n",
        "    for sentence in sentences:\n",
        "        sentence = sentence.lower()\n",
        "        #sentence = re.sub( '^0-9a-zA-Z',' ',sentence)\n",
        "        tokens = sentence.split()\n",
        "        vocabulary+=tokens\n",
        "        tokens_list.append(tokens)\n",
        "       \n",
        "    return tokens_list,vocabulary\n",
        "    \n",
        "\n",
        "p=tokenize(questions+answers)\n",
        "model = Word2Vec(p[0])\n",
        "\n",
        "tokenized_questions = tokenizer.texts_to_sequences(questions)\n",
        "maxlen_questions = max([len(x) for x in tokenized_questions])\n",
        "padded_questions = preprocessing.sequence.pad_sequences(tokenized_questions, maxlen=maxlen_questions, padding='post')\n",
        "encoder_input_data = np.array( padded_questions )\n",
        "print(encoder_input_data.shape, maxlen_questions)\n",
        "\n",
        "tokenized_answers = tokenizer.texts_to_sequences(answers)\n",
        "maxlen_answers = max([len(x) for x in tokenized_answers])\n",
        "padded_answers = preprocessing.sequence.pad_sequences(tokenized_answers, maxlen=maxlen_answers, padding='post')\n",
        "decoder_input_data = np.array(padded_answers)\n",
        "print(decoder_input_data.shape, maxlen_answers)\n",
        "\n",
        "tokenized_answers = tokenizer.texts_to_sequences(answers)\n",
        "for i in range(len(tokenized_answers)):\n",
        "    tokenized_answers[i]=tokenized_answers[i][1:]\n",
        "padded_answers = preprocessing.sequence.pad_sequences(tokenized_answers, maxlen=maxlen_answers, padding='post')\n",
        "one_hot_answers = utils.to_categorical(padded_answers, VOCAB_SIZE)\n",
        "decoder_output_data = np.array(one_hot_answers)\n",
        "print(decoder_output_data.shape)\n"
      ],
      "execution_count": null,
      "outputs": [
        {
          "output_type": "stream",
          "text": [
            "thiazolidinediones\n",
            "929\n",
            "(312, 54) 54\n",
            "(312, 55) 55\n",
            "(312, 55, 1134)\n"
          ],
          "name": "stdout"
        }
      ]
    },
    {
      "cell_type": "code",
      "metadata": {
        "colab": {
          "base_uri": "https://localhost:8080/"
        },
        "id": "ejTqqxPQ1Wnq",
        "outputId": "d8bff03d-59f6-49f5-9b59-9e36e270aa59"
      },
      "source": [
        "encoder_inputs = tf.keras.layers.Input(shape=( None , ))\n",
        "encoder_embedding = tf.keras.layers.Embedding( VOCAB_SIZE, 929 , mask_zero=True ) (encoder_inputs)\n",
        "encoder_outputs , state_h , state_c = tf.keras.layers.LSTM( 929 , return_state=True )( encoder_embedding )\n",
        "encoder_states = [ state_h , state_c ]\n",
        "\n",
        "decoder_inputs = tf.keras.layers.Input(shape=( None ,  ))\n",
        "decoder_embedding = tf.keras.layers.Embedding( VOCAB_SIZE, 929 , mask_zero=True) (decoder_inputs)\n",
        "decoder_lstm = tf.keras.layers.LSTM( 929 , return_state=True , return_sequences=True )\n",
        "decoder_outputs , _ , _ = decoder_lstm ( decoder_embedding , initial_state=encoder_states )\n",
        "decoder_dense = tf.keras.layers.Dense( VOCAB_SIZE , activation=tf.keras.activations.softmax ) \n",
        "output = decoder_dense ( decoder_outputs )\n",
        "\n",
        "model = tf.keras.models.Model([encoder_inputs, decoder_inputs], output )\n",
        "model.compile(optimizer=tf.keras.optimizers.Adam(), loss='categorical_crossentropy', metrics=['accuracy'])\n",
        "\n",
        "model.summary()"
      ],
      "execution_count": null,
      "outputs": [
        {
          "output_type": "stream",
          "text": [
            "Model: \"model_1\"\n",
            "__________________________________________________________________________________________________\n",
            "Layer (type)                    Output Shape         Param #     Connected to                     \n",
            "==================================================================================================\n",
            "input_3 (InputLayer)            [(None, None)]       0                                            \n",
            "__________________________________________________________________________________________________\n",
            "input_4 (InputLayer)            [(None, None)]       0                                            \n",
            "__________________________________________________________________________________________________\n",
            "embedding_2 (Embedding)         (None, None, 929)    1053486     input_3[0][0]                    \n",
            "__________________________________________________________________________________________________\n",
            "embedding_3 (Embedding)         (None, None, 929)    1053486     input_4[0][0]                    \n",
            "__________________________________________________________________________________________________\n",
            "lstm_2 (LSTM)                   [(None, 929), (None, 6908044     embedding_2[0][0]                \n",
            "__________________________________________________________________________________________________\n",
            "lstm_3 (LSTM)                   [(None, None, 929),  6908044     embedding_3[0][0]                \n",
            "                                                                 lstm_2[0][1]                     \n",
            "                                                                 lstm_2[0][2]                     \n",
            "__________________________________________________________________________________________________\n",
            "dense_1 (Dense)                 (None, None, 1134)   1054620     lstm_3[0][0]                     \n",
            "==================================================================================================\n",
            "Total params: 16,977,680\n",
            "Trainable params: 16,977,680\n",
            "Non-trainable params: 0\n",
            "__________________________________________________________________________________________________\n"
          ],
          "name": "stdout"
        }
      ]
    },
    {
      "cell_type": "code",
      "metadata": {
        "colab": {
          "base_uri": "https://localhost:8080/"
        },
        "id": "jXBzfC451WrI",
        "outputId": "0aeeba1d-dbd0-4303-e747-43633ec5ea5d"
      },
      "source": [
        "model.fit([encoder_input_data , decoder_input_data], decoder_output_data, batch_size=50, epochs=50 ) \n",
        "model.save( 'model.h5' )"
      ],
      "execution_count": null,
      "outputs": [
        {
          "output_type": "stream",
          "text": [
            "Epoch 1/50\n",
            "7/7 [==============================] - 57s 7s/step - loss: 1.3388 - accuracy: 0.1246\n",
            "Epoch 2/50\n",
            "7/7 [==============================] - 50s 7s/step - loss: 1.1469 - accuracy: 0.1327\n",
            "Epoch 3/50\n",
            "7/7 [==============================] - 50s 7s/step - loss: 1.0634 - accuracy: 0.1530\n",
            "Epoch 4/50\n",
            "7/7 [==============================] - 50s 7s/step - loss: 1.0404 - accuracy: 0.1974\n",
            "Epoch 5/50\n",
            "7/7 [==============================] - 50s 7s/step - loss: 0.9927 - accuracy: 0.1998\n",
            "Epoch 6/50\n",
            "7/7 [==============================] - 50s 7s/step - loss: 0.9686 - accuracy: 0.2007\n",
            "Epoch 7/50\n",
            "7/7 [==============================] - 50s 7s/step - loss: 0.9456 - accuracy: 0.2025\n",
            "Epoch 8/50\n",
            "7/7 [==============================] - 50s 7s/step - loss: 0.9205 - accuracy: 0.2132\n",
            "Epoch 9/50\n",
            "7/7 [==============================] - 50s 7s/step - loss: 0.8938 - accuracy: 0.2267\n",
            "Epoch 10/50\n",
            "7/7 [==============================] - 50s 7s/step - loss: 0.8641 - accuracy: 0.2327\n",
            "Epoch 11/50\n",
            "7/7 [==============================] - 50s 7s/step - loss: 0.8293 - accuracy: 0.2411\n",
            "Epoch 12/50\n",
            "7/7 [==============================] - 50s 7s/step - loss: 0.8015 - accuracy: 0.2609\n",
            "Epoch 13/50\n",
            "7/7 [==============================] - 50s 7s/step - loss: 0.7674 - accuracy: 0.2746\n",
            "Epoch 14/50\n",
            "7/7 [==============================] - 50s 7s/step - loss: 0.7475 - accuracy: 0.2944\n",
            "Epoch 15/50\n",
            "7/7 [==============================] - 51s 7s/step - loss: 0.7090 - accuracy: 0.3031\n",
            "Epoch 16/50\n",
            "7/7 [==============================] - 51s 7s/step - loss: 0.6707 - accuracy: 0.3229\n",
            "Epoch 17/50\n",
            "7/7 [==============================] - 51s 7s/step - loss: 0.6242 - accuracy: 0.3489\n",
            "Epoch 18/50\n",
            "7/7 [==============================] - 51s 7s/step - loss: 0.5857 - accuracy: 0.3639\n",
            "Epoch 19/50\n",
            "7/7 [==============================] - 51s 7s/step - loss: 0.5449 - accuracy: 0.4031\n",
            "Epoch 20/50\n",
            "7/7 [==============================] - 51s 7s/step - loss: 0.5040 - accuracy: 0.4477\n",
            "Epoch 21/50\n",
            "7/7 [==============================] - 51s 7s/step - loss: 0.4657 - accuracy: 0.4837\n",
            "Epoch 22/50\n",
            "7/7 [==============================] - 51s 7s/step - loss: 0.4279 - accuracy: 0.5274\n",
            "Epoch 23/50\n",
            "7/7 [==============================] - 51s 7s/step - loss: 0.3905 - accuracy: 0.5699\n",
            "Epoch 24/50\n",
            "7/7 [==============================] - 52s 7s/step - loss: 0.3528 - accuracy: 0.6217\n",
            "Epoch 25/50\n",
            "7/7 [==============================] - 51s 7s/step - loss: 0.3217 - accuracy: 0.6559\n",
            "Epoch 26/50\n",
            "7/7 [==============================] - 51s 7s/step - loss: 0.2857 - accuracy: 0.7044\n",
            "Epoch 27/50\n",
            "7/7 [==============================] - 51s 7s/step - loss: 0.2533 - accuracy: 0.7508\n",
            "Epoch 28/50\n",
            "7/7 [==============================] - 51s 7s/step - loss: 0.2235 - accuracy: 0.7835\n",
            "Epoch 29/50\n",
            "7/7 [==============================] - 51s 7s/step - loss: 0.1972 - accuracy: 0.8179\n",
            "Epoch 30/50\n",
            "7/7 [==============================] - 51s 7s/step - loss: 0.1737 - accuracy: 0.8458\n",
            "Epoch 31/50\n",
            "7/7 [==============================] - 51s 7s/step - loss: 0.1519 - accuracy: 0.8709\n",
            "Epoch 32/50\n",
            "7/7 [==============================] - 50s 7s/step - loss: 0.1345 - accuracy: 0.8883\n",
            "Epoch 33/50\n",
            "7/7 [==============================] - 50s 7s/step - loss: 0.1163 - accuracy: 0.9099\n",
            "Epoch 34/50\n",
            "7/7 [==============================] - 50s 7s/step - loss: 0.1032 - accuracy: 0.9170\n",
            "Epoch 35/50\n",
            "7/7 [==============================] - 50s 7s/step - loss: 0.0913 - accuracy: 0.9329\n",
            "Epoch 36/50\n",
            "7/7 [==============================] - 50s 7s/step - loss: 0.0796 - accuracy: 0.9392\n",
            "Epoch 37/50\n",
            "7/7 [==============================] - 50s 7s/step - loss: 0.0707 - accuracy: 0.9488\n",
            "Epoch 38/50\n",
            "7/7 [==============================] - 50s 7s/step - loss: 0.0623 - accuracy: 0.9554\n",
            "Epoch 39/50\n",
            "7/7 [==============================] - 50s 7s/step - loss: 0.0567 - accuracy: 0.9662\n",
            "Epoch 40/50\n",
            "7/7 [==============================] - 50s 7s/step - loss: 0.0503 - accuracy: 0.9629\n",
            "Epoch 41/50\n",
            "7/7 [==============================] - 50s 7s/step - loss: 0.0459 - accuracy: 0.9686\n",
            "Epoch 42/50\n",
            "7/7 [==============================] - 51s 7s/step - loss: 0.0413 - accuracy: 0.9689\n",
            "Epoch 43/50\n",
            "7/7 [==============================] - 51s 7s/step - loss: 0.0378 - accuracy: 0.9730\n",
            "Epoch 44/50\n",
            "7/7 [==============================] - 51s 7s/step - loss: 0.0340 - accuracy: 0.9766\n",
            "Epoch 45/50\n",
            "7/7 [==============================] - 51s 7s/step - loss: 0.0311 - accuracy: 0.9778\n",
            "Epoch 46/50\n",
            "7/7 [==============================] - 51s 7s/step - loss: 0.0288 - accuracy: 0.9808\n",
            "Epoch 47/50\n",
            "7/7 [==============================] - 51s 7s/step - loss: 0.0258 - accuracy: 0.9820\n",
            "Epoch 48/50\n",
            "7/7 [==============================] - 51s 7s/step - loss: 0.0238 - accuracy: 0.9847\n",
            "Epoch 49/50\n",
            "7/7 [==============================] - 51s 7s/step - loss: 0.0214 - accuracy: 0.9838\n",
            "Epoch 50/50\n",
            "7/7 [==============================] - 51s 7s/step - loss: 0.0197 - accuracy: 0.9853\n"
          ],
          "name": "stdout"
        }
      ]
    },
    {
      "cell_type": "code",
      "metadata": {
        "id": "9rphLtHb1cC7"
      },
      "source": [
        "def make_inference_models():\n",
        "    \n",
        "    encoder_model = tf.keras.models.Model(encoder_inputs, encoder_states)\n",
        "    \n",
        "    decoder_state_input_h = tf.keras.layers.Input(shape=( 929 ,))\n",
        "    decoder_state_input_c = tf.keras.layers.Input(shape=( 929 ,))\n",
        "    \n",
        "    \n",
        "    decoder_states_inputs = [decoder_state_input_h, decoder_state_input_c]\n",
        "    \n",
        "    decoder_outputs, state_h, state_c = decoder_lstm(\n",
        "        decoder_embedding , initial_state=decoder_states_inputs)\n",
        "    decoder_states = [state_h, state_c]\n",
        "    decoder_outputs = decoder_dense(decoder_outputs)\n",
        "    decoder_model = tf.keras.models.Model(\n",
        "        [decoder_inputs] + decoder_states_inputs,\n",
        "        [decoder_outputs] + decoder_states)\n",
        "    \n",
        "    return encoder_model , decoder_model"
      ],
      "execution_count": null,
      "outputs": []
    },
    {
      "cell_type": "code",
      "metadata": {
        "id": "Mtyxd0Xz1cMS"
      },
      "source": [
        "def str_to_tokens( sentence : str ):\n",
        "    words = sentence.lower().split()\n",
        "    tokens_list = list()\n",
        "    for word in words:\n",
        "        tokens_list.append( tokenizer.word_index[ word ] ) \n",
        "    return preprocessing.sequence.pad_sequences( [tokens_list] , maxlen=maxlen_questions , padding='post')"
      ],
      "execution_count": null,
      "outputs": []
    },
    {
      "cell_type": "code",
      "metadata": {
        "id": "UlmX_E0j1ksX"
      },
      "source": [
        "enc_model , dec_model = make_inference_models()\n",
        "\n",
        "for _ in range(10):\n",
        "    states_values = enc_model.predict( str_to_tokens( input( 'You : ' ) ) )\n",
        "    empty_target_seq = np.zeros( ( 1 , 1 ) )\n",
        "    empty_target_seq[0, 0] = tokenizer.word_index['start']\n",
        "    stop_condition = False\n",
        "    decoded_translation = ''\n",
        "    while not stop_condition :\n",
        "        dec_outputs , h , c = dec_model.predict([ empty_target_seq ] + states_values )\n",
        "        sampled_word_index = np.argmax( dec_outputs[0, -1, :] )\n",
        "        sampled_word = None\n",
        "        for word , index in tokenizer.word_index.items() :\n",
        "            if sampled_word_index == index :\n",
        "                decoded_translation += ' {}'.format( word )\n",
        "                sampled_word = word\n",
        "        \n",
        "        if sampled_word == 'end' or len(decoded_translation.split()) > maxlen_answers:\n",
        "            stop_condition = True\n",
        "            \n",
        "        empty_target_seq = np.zeros( ( 1 , 1 ) )  \n",
        "        empty_target_seq[ 0 , 0 ] = sampled_word_index\n",
        "        states_values = [ h , c ] \n",
        "\n",
        "    print( decoded_translation )"
      ],
      "execution_count": null,
      "outputs": []
    }
  ]
}